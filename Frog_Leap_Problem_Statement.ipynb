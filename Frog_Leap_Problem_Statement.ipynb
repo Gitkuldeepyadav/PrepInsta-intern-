{
 "cells": [
  {
   "cell_type": "markdown",
   "metadata": {
    "id": "fxZte1ZuP3yr"
   },
   "source": [
    "# Problem statement\n",
    "\n",
    "Create famous 'Frog leap' puzzle game. Try completing the game before starting to get an idea about its working.\n",
    "[Demonstration](https://www.neok12.com/games/leap-froggies/leap-froggies.htm).\n",
    "\n",
    "\n",
    "### Rules ###\n",
    "1. The left set of frogs can only move right, the right set of frogs can only move left.\n",
    "2. Frogs can move forward one space, or move two spaces by jumping over another frog from opposite side.\n",
    "3. The puzzle is solved when the two sets of frogs have switched positions.\n",
    "\n",
    "\n",
    "## Steps to solve the problem:\n",
    "### Step1:-\n",
    "- Display green and brown frogs on the left and right sides initially.\n",
    "\n",
    "Initial Display :-  \n",
    "```\n",
    "[ 0 ,  1 ,  2 ,  3 ,  4 ,  5 ,  6 ]\n",
    "['G', 'G', 'G', '-', 'B', 'B', 'B']\n",
    "```\n",
    "<br>\n",
    "Here 'G' represents Green frogs on the left side and 'B' represents brown frogs on the right side. The '-' defines the position of empty leaf.\n",
    "(You can change display according to your imagination or convinience)\n",
    "\n",
    "### Step2:-\n",
    "Accept positions of the frog that you want to move.<br>\n",
    "Example: If we enter position 2 then the game will look like this:-\n",
    "```\n",
    "[ 0 ,  1 ,  2 ,  3 ,  4 ,  5 ,  6 ]\n",
    "['G', 'G', '-', 'G', 'B', 'B', 'B']\n",
    "```\n",
    "\n",
    "### Step3:- ###\n",
    "Define Invalid moves and add conditional 'if' statements accordingly\n",
    "#### Rules\n",
    "1. Entered position should be between 0 to 6. Or a character 'q' to quit the game.\n",
    "2. Entered position cannot be the position of empty leaf.\n",
    "3. If the selected frog position cannot perform the contraints given in rule 2 then the move is invalid.\n",
    "\n",
    "### Step4:-\n",
    "Make the appropriate move by changing the game display."
   ]
  },
  {
   "cell_type": "markdown",
   "metadata": {
    "id": "-viYJbAFQXcJ"
   },
   "source": [
    "## Step 1\n",
    "First create a list `positions` which contains the characters 'G','B' and '-' in the same sequence as given in the initial display state."
   ]
  },
  {
   "cell_type": "code",
   "execution_count": 1,
   "metadata": {
    "id": "fSvLBrjwP0sr"
   },
   "outputs": [],
   "source": [
    "list=['G', 'G', 'G', '-', 'B', 'B', 'B']"
   ]
  },
  {
   "cell_type": "markdown",
   "metadata": {
    "id": "unr1AJLSQj_4"
   },
   "source": [
    "Now print this string ```[ 0 ,  1 ,  2 ,  3 ,  4 ,  5 ,  6 ]``` and after that print the list `positions`"
   ]
  },
  {
   "cell_type": "code",
   "execution_count": 2,
   "metadata": {
    "id": "qqKLcfEmQgiZ"
   },
   "outputs": [
    {
     "name": "stdout",
     "output_type": "stream",
     "text": [
      "['G', 'G', 'G', '-', 'B', 'B', 'B']\n",
      "0\n",
      "1\n",
      "2\n",
      "3\n",
      "4\n",
      "5\n",
      "6\n"
     ]
    }
   ],
   "source": [
    "print(list)\n",
    "k=0\n",
    "for i in list:\n",
    "    i=k\n",
    "    k+=1\n",
    "    print(i)"
   ]
  },
  {
   "cell_type": "markdown",
   "metadata": {
    "id": "DuEVsgtjQqXV"
   },
   "source": [
    "Take position input from user and write a message as `\"Press q to quit else \\nEnter position of piece:\"`."
   ]
  },
  {
   "cell_type": "code",
   "execution_count": 3,
   "metadata": {
    "id": "nPz65EKXQnDR"
   },
   "outputs": [
    {
     "name": "stdout",
     "output_type": "stream",
     "text": [
      "Press q to quit else \n",
      "Enter position of piece:6\n"
     ]
    }
   ],
   "source": [
    "position =input(\"Press q to quit else \\nEnter position of piece:\")"
   ]
  },
  {
   "cell_type": "markdown",
   "metadata": {
    "id": "ejy_x_eTRJmT"
   },
   "source": [
    "Now the taken input is in string format. So first check if the input is `'q'` character. If input is `'q'` then the person is quiting the game so print `'You Lose'`."
   ]
  },
  {
   "cell_type": "code",
   "execution_count": 4,
   "metadata": {
    "id": "1OrsC7P9QxO6"
   },
   "outputs": [
    {
     "name": "stdout",
     "output_type": "stream",
     "text": [
      "continue\n"
     ]
    }
   ],
   "source": [
    "if(position==\"q\"):\n",
    "    print(\"You Lose\")\n",
    "else:\n",
    "    print(\"continue\")"
   ]
  },
  {
   "cell_type": "markdown",
   "metadata": {
    "id": "yZJeDTGlRSMe"
   },
   "source": [
    "Next if input character is not `'q'` then it has to be some integer. so convert input to integer format."
   ]
  },
  {
   "cell_type": "code",
   "execution_count": 5,
   "metadata": {
    "id": "PWZj_Js6RP2G"
   },
   "outputs": [],
   "source": [
    "convert_input=int(position)"
   ]
  },
  {
   "cell_type": "markdown",
   "metadata": {
    "id": "SyCzN-cYRXZa"
   },
   "source": [
    "## Step 2\n",
    "Now we have to check validity of the selected positions or move.<br>\n",
    "If the entered number isn't between 0 and 6, then print 'Invalid move'."
   ]
  },
  {
   "cell_type": "code",
   "execution_count": 6,
   "metadata": {
    "id": "8_edLqe2RU8S"
   },
   "outputs": [
    {
     "name": "stdout",
     "output_type": "stream",
     "text": [
      "valid move\n"
     ]
    }
   ],
   "source": [
    "if(convert_input>6 or convert_input<0):\n",
    "    print(\"Invalid move\")\n",
    "else:\n",
    "    print(\"valid move\")"
   ]
  },
  {
   "cell_type": "markdown",
   "metadata": {
    "id": "Va03g0l5Rlkx"
   },
   "source": [
    "A frog should be present on the selected position to make a move. If leaf is selected then it doesn't make sense. Therefore, if entered postition is same as the postition of empty leaf then the move is invalid and print `Invalid Move`"
   ]
  },
  {
   "cell_type": "code",
   "execution_count": 7,
   "metadata": {
    "id": "uM2-D1xGRiH4"
   },
   "outputs": [
    {
     "name": "stdout",
     "output_type": "stream",
     "text": [
      "3\n"
     ]
    }
   ],
   "source": [
    "empty_leaf_index=0\n",
    "for i in list:  \n",
    "    if(i==\"-\"):\n",
    "        print(empty_leaf_index)   \n",
    "        break\n",
    "    else:\n",
    "        empty_leaf_index+=1"
   ]
  },
  {
   "cell_type": "code",
   "execution_count": 8,
   "metadata": {},
   "outputs": [],
   "source": [
    "if list[convert_input]==\"-\":\n",
    "    print(\"Invalid move\")"
   ]
  },
  {
   "cell_type": "code",
   "execution_count": 9,
   "metadata": {},
   "outputs": [
    {
     "name": "stdout",
     "output_type": "stream",
     "text": [
      "valid move\n"
     ]
    }
   ],
   "source": [
    "\n",
    "if(convert_input==empty_leaf_index):\n",
    "    print(\"Invalid move\")\n",
    "else:\n",
    "    print(\"valid move\")"
   ]
  },
  {
   "cell_type": "markdown",
   "metadata": {
    "id": "cp5q2ahQTnwI"
   },
   "source": [
    "Initialize a variable named `pos2` at value 0, to store the index of empty leaf, so that we can use it later."
   ]
  },
  {
   "cell_type": "code",
   "execution_count": 10,
   "metadata": {
    "id": "1SkBYDnaTpiV"
   },
   "outputs": [],
   "source": [
    "pos2=0"
   ]
  },
  {
   "cell_type": "markdown",
   "metadata": {
    "id": "V9UFD623R3Oa"
   },
   "source": [
    "```   \n",
    "    Check if the selected frog is 'G':\n",
    "  \n",
    "        (Inside if when it's 'G'. As 'G' is selected frog can move to right only.)\n",
    "        \n",
    "        ❗condition 1\n",
    "\n",
    "        If **selected_position + 1** is less than or equal to 6 and **curent_position + 1** contains '-'\n",
    "        then it's a valid move and store that postion in `pos2`.\n",
    "        \n",
    "        ❗condition2\n",
    "\n",
    "        Else if **selected_position + 2** is less than or equal to 6 and if **current_position + 2**\n",
    "        contains '-' and if **selected_position + 1** contains 'B' then it's a valid move  and store that postion in `pos2`.\n",
    "        \n",
    "        ❗condition3:\n",
    "\n",
    "        Else remainig all are invalid, so print `Invalid Move`\n",
    "      \n",
    "```"
   ]
  },
  {
   "cell_type": "code",
   "execution_count": 11,
   "metadata": {
    "id": "IDHxpibURriq"
   },
   "outputs": [
    {
     "name": "stdout",
     "output_type": "stream",
     "text": [
      "selected frog is brown\n"
     ]
    }
   ],
   "source": [
    "if(list[convert_input]==\"G\"):\n",
    "    if(convert_input+1<=6 and list[convert_input+1]==\"-\"):\n",
    "        pos2=convert_input+1\n",
    "        print(pos2)\n",
    "    elif(convert_input+2<=6 and list[convert_input+2]== \"-\" and list[convert_input+1]==\"B\" ):\n",
    "        pos2=convert_input+2\n",
    "        print(pos2)\n",
    "    else:\n",
    "        print(\"Invalid move\")\n",
    "  \n",
    "else:\n",
    "    print(\"selected frog is brown\")"
   ]
  },
  {
   "cell_type": "markdown",
   "metadata": {
    "id": "DyQX5nUsTZPF"
   },
   "source": [
    "```\n",
    "    Check if the selected frog is 'B':\n",
    "    \n",
    "        (Inside if when it's 'B'. As 'B' is selected frog can move to left only.)\n",
    "        \n",
    "        ❗condition1:\n",
    "\n",
    "        If **selected_position - 1** is more than or equal to 0 and **curent_position - 1** contains '-' then\n",
    "        it's a valid move and and store that postion in `pos2`.\n",
    "        \n",
    "        ❗condition2:\n",
    "\n",
    "        Else if **selected_position - 2** is more than or equal to 0 and if **current_position - 2** contains '-'\n",
    "        and if **selected_position - 1** contains 'G' then it's a valid move and and store that postion in `pos2`.\n",
    "\n",
    "        ❗condition3:\n",
    "        \n",
    "        Else remainig all are invalid,, so print `Invalid Move`.\n",
    "        \n",
    "```"
   ]
  },
  {
   "cell_type": "code",
   "execution_count": 12,
   "metadata": {
    "id": "cQ2G3ZO_TWU5"
   },
   "outputs": [
    {
     "name": "stdout",
     "output_type": "stream",
     "text": [
      "Invalid move\n"
     ]
    }
   ],
   "source": [
    "if(list[convert_input]==\"B\"):\n",
    "    if(convert_input-1>=0 and list[convert_input-1]==\"-\"):\n",
    "        pos2=convert_input-1\n",
    "        print(pos2)\n",
    "    elif(convert_input-2<=6 and list[convert_input-2]== \"-\" and list[convert_input-1]==\"G\"):\n",
    "        pos2=convert_input-2\n",
    "        print(pos2)\n",
    "    else:\n",
    "        print(\"Invalid move\")\n",
    "  \n",
    "else:\n",
    "    print(\"selected frog is green\")"
   ]
  },
  {
   "cell_type": "markdown",
   "metadata": {
    "id": "Vads2oztUd4g"
   },
   "source": [
    "Swap the element at selected positions and calculated position2 in the list.<br> So basically we are moving the frog to next valid position by swapping elelments of array."
   ]
  },
  {
   "cell_type": "code",
   "execution_count": 13,
   "metadata": {
    "id": "jXOGtww7UeYQ"
   },
   "outputs": [
    {
     "name": "stdout",
     "output_type": "stream",
     "text": [
      "['B', 'G', 'G', '-', 'B', 'B', 'G']\n",
      "[ 0    1    2    3    4    5    6]\n"
     ]
    }
   ],
   "source": [
    "temp=list[convert_input]\n",
    "list[convert_input]=list[pos2]\n",
    "list[pos2]=temp\n",
    "print(list)\n",
    "print(\"[ 0    1    2    3    4    5    6]\")"
   ]
  },
  {
   "cell_type": "markdown",
   "metadata": {
    "id": "8qF4Q2HsUlZ4"
   },
   "source": [
    "Now print the display of the game again to see the change.<br>\n",
    "If we enter position 2 then the output will look like this:-\n",
    "```\n",
    "[ 0 ,  1 ,  2 ,  3 ,  4 ,  5 ,  6 ]\n",
    "['G', 'G', '-', 'G', 'B', 'B', 'B']\n",
    "```"
   ]
  },
  {
   "cell_type": "code",
   "execution_count": 14,
   "metadata": {
    "id": "0S3oNzG3UifK"
   },
   "outputs": [
    {
     "name": "stdout",
     "output_type": "stream",
     "text": [
      "['B', 'G', 'G', '-', 'B', 'B', 'G']\n",
      "[ 0    1    2    3    4    5    6]\n"
     ]
    }
   ],
   "source": [
    "print(list)\n",
    "print(\"[ 0    1    2    3    4    5    6]\")"
   ]
  },
  {
   "cell_type": "markdown",
   "metadata": {
    "id": "EILVGu48UsH-"
   },
   "source": [
    "Check for winning condition by comparing the elements of list. If player has won the game print `'You Win'`"
   ]
  },
  {
   "cell_type": "code",
   "execution_count": 15,
   "metadata": {},
   "outputs": [
    {
     "name": "stdout",
     "output_type": "stream",
     "text": [
      "You Lose\n"
     ]
    }
   ],
   "source": [
    "if (list==['B', 'B', 'B','-','G', 'G', 'G']):\n",
    "    print(\"You Win\")\n",
    "else:\n",
    "    print(\"You Lose\")"
   ]
  },
  {
   "cell_type": "markdown",
   "metadata": {
    "id": "a2a0HHjiUyQ8"
   },
   "source": [
    "Now the game should keep running until the player quits, so place all conditional statements inside an infinite loop.<br>\n",
    "\n",
    "1. We have to `'break'` the loop if the player presses `'q'` and quits.\n",
    "\n",
    "2. If the move made by player is `'Invalid Move'` then we have to `'continue'` without executing remaining part of the selected iteration.\n",
    "\n",
    "3. If player wins the game we have to `break` the loop.\n",
    "\n",
    "\n",
    "```\n",
    "Infinite loop:\n",
    "    (inside loop)\n",
    "    1.Take input\n",
    "    2.Check all valid and invalid conditions of `pos`.\n",
    "    3.Make the appropriate move by calculating `pos2`.\n",
    "    4.Display game\n",
    "    4.Check winning condition\n",
    "```"
   ]
  },
  {
   "cell_type": "code",
   "execution_count": null,
   "metadata": {},
   "outputs": [
    {
     "name": "stdout",
     "output_type": "stream",
     "text": [
      "['G', 'G', 'G', '-', 'B', 'B', 'B']\n",
      "[ 0    1    2    3    4    5    6]\n",
      "Press q to quit or Enter position of piece:2\n",
      "['G', 'G', '-', 'G', 'B', 'B', 'B']\n",
      "[ 0    1    2    3    4    5    6]\n",
      "Press q to quit or Enter position of piece:4\n",
      "['G', 'G', 'B', 'G', '-', 'B', 'B']\n",
      "[ 0    1    2    3    4    5    6]\n",
      "Press q to quit or Enter position of piece:5\n",
      "['G', 'G', 'B', 'G', 'B', '-', 'B']\n",
      "[ 0    1    2    3    4    5    6]\n",
      "Press q to quit or Enter position of piece:3\n",
      "['G', 'G', 'B', '-', 'B', 'G', 'B']\n",
      "[ 0    1    2    3    4    5    6]\n",
      "Press q to quit or Enter position of piece:1\n",
      "['G', '-', 'B', 'G', 'B', 'G', 'B']\n",
      "[ 0    1    2    3    4    5    6]\n",
      "Press q to quit or Enter position of piece:0\n",
      "['-', 'G', 'B', 'G', 'B', 'G', 'B']\n",
      "[ 0    1    2    3    4    5    6]\n",
      "Press q to quit or Enter position of piece:2\n",
      "['B', 'G', '-', 'G', 'B', 'G', 'B']\n",
      "[ 0    1    2    3    4    5    6]\n",
      "Press q to quit or Enter position of piece:4\n",
      "['B', 'G', 'B', 'G', '-', 'G', 'B']\n",
      "[ 0    1    2    3    4    5    6]\n",
      "Press q to quit or Enter position of piece:6\n",
      "['B', 'G', 'B', 'G', 'B', 'G', '-']\n",
      "[ 0    1    2    3    4    5    6]\n",
      "Press q to quit or Enter position of piece:5\n",
      "['B', 'G', 'B', 'G', 'B', '-', 'G']\n",
      "[ 0    1    2    3    4    5    6]\n",
      "Press q to quit or Enter position of piece:3\n",
      "['B', 'G', 'B', '-', 'B', 'G', 'G']\n",
      "[ 0    1    2    3    4    5    6]\n",
      "Press q to quit or Enter position of piece:1\n",
      "['B', '-', 'B', 'G', 'B', 'G', 'G']\n",
      "[ 0    1    2    3    4    5    6]\n",
      "Press q to quit or Enter position of piece:2\n",
      "['B', 'B', '-', 'G', 'B', 'G', 'G']\n",
      "[ 0    1    2    3    4    5    6]\n",
      "Press q to quit or Enter position of piece:4\n",
      "['B', 'B', 'B', 'G', '-', 'G', 'G']\n",
      "[ 0    1    2    3    4    5    6]\n",
      "Press q to quit or Enter position of piece:4\n",
      "Invalid move\n",
      "Press q to quit or Enter position of piece:2\n",
      "Invalid move\n",
      "['B', 'B', 'B', 'G', '-', 'G', 'G']\n",
      "[ 0    1    2    3    4    5    6]\n",
      "Press q to quit or Enter position of piece:2\n",
      "Invalid move\n",
      "['B', 'B', 'B', 'G', '-', 'G', 'G']\n",
      "[ 0    1    2    3    4    5    6]\n",
      "Press q to quit or Enter position of piece:4\n",
      "Invalid move\n",
      "Press q to quit or Enter position of piece:5\n",
      "Invalid move\n",
      "['G', 'B', 'B', 'G', '-', 'B', 'G']\n",
      "[ 0    1    2    3    4    5    6]\n",
      "Press q to quit or Enter position of piece:3\n",
      "['G', 'B', 'B', '-', 'G', 'B', 'G']\n",
      "[ 0    1    2    3    4    5    6]\n",
      "Press q to quit or Enter position of piece:1\n",
      "Invalid move\n",
      "['B', 'G', 'B', '-', 'G', 'B', 'G']\n",
      "[ 0    1    2    3    4    5    6]\n",
      "Press q to quit or Enter position of piece:0\n",
      "Invalid move\n",
      "['B', 'G', 'B', '-', 'G', 'B', 'G']\n",
      "[ 0    1    2    3    4    5    6]\n",
      "Press q to quit or Enter position of piece:2\n",
      "Invalid move\n",
      "['B', 'G', 'B', '-', 'G', 'B', 'G']\n",
      "[ 0    1    2    3    4    5    6]\n",
      "Press q to quit or Enter position of piece:4\n",
      "Invalid move\n",
      "['G', 'G', 'B', '-', 'B', 'B', 'G']\n",
      "[ 0    1    2    3    4    5    6]\n",
      "Press q to quit or Enter position of piece:6\n",
      "Invalid move\n",
      "['G', 'G', 'B', '-', 'B', 'B', 'G']\n",
      "[ 0    1    2    3    4    5    6]\n",
      "Press q to quit or Enter position of piece:5\n",
      "Invalid move\n",
      "['B', 'G', 'B', '-', 'B', 'G', 'G']\n",
      "[ 0    1    2    3    4    5    6]\n",
      "Press q to quit or Enter position of piece:3\n",
      "Invalid move\n",
      "Press q to quit or Enter position of piece:1\n",
      "['B', '-', 'B', 'G', 'B', 'G', 'G']\n",
      "[ 0    1    2    3    4    5    6]\n",
      "Press q to quit or Enter position of piece:2\n",
      "['B', 'B', '-', 'G', 'B', 'G', 'G']\n",
      "[ 0    1    2    3    4    5    6]\n",
      "Press q to quit or Enter position of piece:4\n",
      "['B', 'B', 'B', 'G', '-', 'G', 'G']\n",
      "[ 0    1    2    3    4    5    6]\n",
      "Press q to quit or Enter position of piece:4\n",
      "Invalid move\n",
      "Press q to quit or Enter position of piece:3\n",
      "['B', 'B', 'B', '-', 'G', 'G', 'G']\n",
      "[ 0    1    2    3    4    5    6]\n",
      "You Win\n"
     ]
    }
   ],
   "source": [
    "# step 1: First create a list `positions` containing characters 'G', 'B', and '-' in the same sequence as given in the initial display state.\n",
    "position = ['G', 'G', 'G', '-', 'B', 'B', 'B']\n",
    "print(position)\n",
    "print(\"[ 0    1    2    3    4    5    6]\")\n",
    "\n",
    "while True:\n",
    "    # step 2: Take position input from user\n",
    "    user_input = input(\"Press q to quit or Enter position of piece:\")\n",
    "\n",
    "    # step 3: So first check if the input is 'q' character. If input is 'q', then the person is quitting the game so print 'You Lose'.\n",
    "    if user_input.lower() == \"q\":\n",
    "        print(\"You Lose\")\n",
    "        break\n",
    "\n",
    "    # step 4: Next if input character is not 'q', then it has to be some integer. So convert input to integer format.\n",
    "    convert_input = int(user_input)\n",
    "\n",
    "    # step 5: Now we have to check the validity of the selected positions or move.\n",
    "    # If the entered number isn't between 0 and 6, then print 'Invalid move'\n",
    "    if convert_input > 6 or convert_input < 0:\n",
    "        print(\"Invalid move\")\n",
    "        continue\n",
    "\n",
    "    # step 6: Therefore, if entered position is the same as the position of the empty leaf, then the move is invalid and print 'Invalid Move'\n",
    "    if position[convert_input] == \"-\":\n",
    "        print(\"Invalid move\")\n",
    "        continue\n",
    "\n",
    "    # step 7: Initialize a variable named pos2 at value 0, to store the index of the empty leaf, so that we can use it later.\n",
    "    pos2 = 0\n",
    "\n",
    "    # step 8: check conditions: Check if the selected frog is 'G' and then\n",
    "    # condition 1: If selected_position + 1 is less than or equal to 6 and current_position + 1 contains '-'\n",
    "    # then it's a valid move and store that position in `pos2`.\n",
    "    if position[convert_input] == \"G\":\n",
    "        if convert_input + 1 <= 6 and position[convert_input + 1] == \"-\":\n",
    "            pos2 = convert_input + 1\n",
    "\n",
    "        # condition 2: Else if selected_position - 2 is more than or equal to 0 and if current_position - 2 contains '-'\n",
    "        # and if selected_position - 1 contains 'B' then it's a valid move and store that position in `pos2`.\n",
    "        elif convert_input + 2 <= 6 and position[convert_input + 2] == \"-\" and position[convert_input + 1] == \"B\":\n",
    "            pos2 = convert_input + 2\n",
    "\n",
    "        # condition 3: Else remaining all are invalid, so print 'Invalid Move'\n",
    "        else:\n",
    "            print(\"Invalid move\")\n",
    "\n",
    "    # check the same conditions for the selected frog is 'B'\n",
    "    if position[convert_input] == \"B\":\n",
    "        if convert_input - 1 >= 0 and position[convert_input - 1] == \"-\":\n",
    "            pos2 = convert_input - 1\n",
    "\n",
    "        elif convert_input - 2 >= 0 and position[convert_input - 2] == \"-\" and position[convert_input - 1] == \"G\":\n",
    "            pos2 = convert_input - 2\n",
    "\n",
    "        else:\n",
    "            print(\"Invalid move\")\n",
    "\n",
    "    # step 9: Swap the element at selected positions and calculated position2 in the list.\n",
    "    # So basically, we are moving the frog to the next valid position by swapping elements of the array.\n",
    "    temp = position[convert_input]\n",
    "    position[convert_input] = position[pos2]\n",
    "    position[pos2] = temp\n",
    "\n",
    "    # step 10: Now print the display of the game again to see the change.\n",
    "    print(position)\n",
    "    print(\"[ 0    1    2    3    4    5    6]\")\n",
    "\n",
    "   \n",
    "    # step 11: Check for the winning condition by comparing the elements of the list. If the player has won the game, print 'You Win'\n",
    "    if position == ['B', 'B', 'B', '-', 'G', 'G', 'G']:\n",
    "        print(\"You Win\")\n",
    "# else:\n",
    "#     print(\"You Lose\")\n",
    "   \n"
   ]
  },
  {
   "cell_type": "code",
   "execution_count": null,
   "metadata": {},
   "outputs": [],
   "source": [
    " Ans=print(2 4 5 3 1 0 2 4 6 5 3 1 2 4 4 3)"
   ]
  },
  {
   "cell_type": "code",
   "execution_count": null,
   "metadata": {},
   "outputs": [],
   "source": []
  }
 ],
 "metadata": {
  "colab": {
   "provenance": []
  },
  "kernelspec": {
   "display_name": "Python 3 (ipykernel)",
   "language": "python",
   "name": "python3"
  },
  "language_info": {
   "codemirror_mode": {
    "name": "ipython",
    "version": 3
   },
   "file_extension": ".py",
   "mimetype": "text/x-python",
   "name": "python",
   "nbconvert_exporter": "python",
   "pygments_lexer": "ipython3",
   "version": "3.11.4"
  }
 },
 "nbformat": 4,
 "nbformat_minor": 1
}
